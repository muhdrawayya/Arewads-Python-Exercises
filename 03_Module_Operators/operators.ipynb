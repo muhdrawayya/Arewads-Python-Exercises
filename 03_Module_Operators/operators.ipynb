{
 "cells": [
  {
   "cell_type": "markdown",
   "metadata": {},
   "source": [
    "## **Exercises: Level 3**"
   ]
  },
  {
   "cell_type": "markdown",
   "metadata": {},
   "source": [
    "### 1. Declare your age as integer variable"
   ]
  },
  {
   "cell_type": "code",
   "execution_count": 1,
   "metadata": {},
   "outputs": [
    {
     "name": "stdout",
     "output_type": "stream",
     "text": [
      "I am 32 years old\n"
     ]
    }
   ],
   "source": [
    "my_age = 32\n",
    "print(f\"I am {my_age} years old\")"
   ]
  },
  {
   "cell_type": "markdown",
   "metadata": {},
   "source": [
    "### 2. Declare your height as a float variable"
   ]
  },
  {
   "cell_type": "code",
   "execution_count": 2,
   "metadata": {},
   "outputs": [
    {
     "name": "stdout",
     "output_type": "stream",
     "text": [
      "I am 1.75 meters tall\n"
     ]
    }
   ],
   "source": [
    "my_height = 1.75\n",
    "print(f\"I am {my_height} meters tall\")"
   ]
  },
  {
   "cell_type": "markdown",
   "metadata": {},
   "source": [
    "### 3. Declare a variable that store a complex number"
   ]
  },
  {
   "cell_type": "code",
   "execution_count": 3,
   "metadata": {},
   "outputs": [
    {
     "name": "stdout",
     "output_type": "stream",
     "text": [
      "The complex number is (1+2j)\n"
     ]
    }
   ],
   "source": [
    "complex_number = 1 + 2j\n",
    "print(f\"The complex number is {complex_number}\")"
   ]
  },
  {
   "cell_type": "markdown",
   "metadata": {},
   "source": [
    "### 4. Write a script that prompts the user to enter base and height of the triangle and calculate an area of this triangle (area = 0.5 x b x h)."
   ]
  },
  {
   "cell_type": "markdown",
   "metadata": {},
   "source": [
    "Enter base: 20\n",
    "\n",
    "Enter height: 10\n",
    "\n",
    "The area of the triangle is 100"
   ]
  },
  {
   "cell_type": "code",
   "execution_count": 7,
   "metadata": {},
   "outputs": [
    {
     "name": "stdout",
     "output_type": "stream",
     "text": [
      "The area of the triangle is 100\n"
     ]
    }
   ],
   "source": [
    "b = 20\n",
    "h = 10\n",
    "area = 0.5 * b * h\n",
    "print(f\"The area of the triangle is {round(area)}\")"
   ]
  },
  {
   "cell_type": "markdown",
   "metadata": {},
   "source": [
    "### 5. Write a script that prompts the user to enter side a, side b, and side c of the triangle. Calculate the perimeter of the triangle (perimeter = a + b + c)."
   ]
  },
  {
   "cell_type": "markdown",
   "metadata": {},
   "source": [
    "Enter side a: 5\n",
    "\n",
    "Enter side b: 4\n",
    "\n",
    "Enter side c: 3\n",
    "\n",
    "The perimeter of the triangle is 12"
   ]
  },
  {
   "cell_type": "code",
   "execution_count": 8,
   "metadata": {},
   "outputs": [
    {
     "name": "stdout",
     "output_type": "stream",
     "text": [
      "The perimeter of the triangle is 12\n"
     ]
    }
   ],
   "source": [
    "a = 5\n",
    "b = 4\n",
    "c = 3\n",
    "perimeter = a + b + c\n",
    "print(f\"The perimeter of the triangle is {perimeter}\")"
   ]
  },
  {
   "cell_type": "markdown",
   "metadata": {},
   "source": [
    "### 6. Get length and width of a rectangle using prompt. Calculate its area (area = length x width) and perimeter (perimeter = 2 x (length + width))"
   ]
  },
  {
   "cell_type": "code",
   "execution_count": 9,
   "metadata": {},
   "outputs": [
    {
     "name": "stdout",
     "output_type": "stream",
     "text": [
      "Area of the rectangle: 84.00\n",
      "Perimeter of the rectangle: 37.00\n"
     ]
    }
   ],
   "source": [
    "# Prompt user for length and width\n",
    "length = float(input(\"Enter the length of the rectangle: \"))\n",
    "width = float(input(\"Enter the width of the rectangle: \"))\n",
    "\n",
    "# Calculate area\n",
    "area_ = length * width\n",
    "\n",
    "# Calculate perimeter\n",
    "peri = 2*(length + width)\n",
    "\n",
    "# Print results\n",
    "print(f\"Area of the rectangle: {area_:.2f}\")\n",
    "print(f\"Perimeter of the rectangle: {peri:.2f}\")\n"
   ]
  },
  {
   "cell_type": "markdown",
   "metadata": {},
   "source": [
    "### 7. Get radius of a circle using prompt. Calculate the area (area = pi x r x r) and circumference (c = 2 x pi x r) where pi = 3.14."
   ]
  },
  {
   "cell_type": "code",
   "execution_count": 10,
   "metadata": {},
   "outputs": [
    {
     "name": "stdout",
     "output_type": "stream",
     "text": [
      "Area of the circle: 5024.00\n",
      "Circumference of the circle: 251.20\n"
     ]
    }
   ],
   "source": [
    "pi = 3.14\n",
    "# Prompt user for radius\n",
    "radius = float(input(\"Enter the radius of the circle: \"))\n",
    "\n",
    "# Calculate area\n",
    "area_2 = pi * radius ** 2\n",
    "\n",
    "# Calculate circumference\n",
    "circumference = 2 * pi * radius\n",
    "\n",
    "# Print results\n",
    "print(f\"Area of the circle: {area_2:.2f}\")\n",
    "print(f\"Circumference of the circle: {circumference:.2f}\")\n"
   ]
  },
  {
   "cell_type": "markdown",
   "metadata": {},
   "source": [
    "### 8. Calculate the slope, x-intercept and y-intercept of y = 2x -2"
   ]
  },
  {
   "cell_type": "code",
   "execution_count": 11,
   "metadata": {},
   "outputs": [
    {
     "name": "stdout",
     "output_type": "stream",
     "text": [
      "Slope: 2\n",
      "x-intercept: 1\n",
      "y-intercept: -2\n"
     ]
    }
   ],
   "source": [
    "# Identify the slope & y-intercept\n",
    "\n",
    "slope = 2 # The slope (m) is the coefficient of x, which is 2.\n",
    "y_intercept = -2 # The y-intercept (b) is the constant term, which is -2.\n",
    "\n",
    "# To find the x-intercept, set y to 0 and solve for x:\n",
    "# 0 = 2x - 2\n",
    "x_intercept = 1 # The x-intercept is 1.\n",
    "\n",
    "\n",
    "print(f\"Slope: {slope}\")\n",
    "print(f\"x-intercept: {x_intercept}\")\n",
    "print(f\"y-intercept: {y_intercept}\")\n",
    "\n"
   ]
  },
  {
   "cell_type": "markdown",
   "metadata": {},
   "source": [
    "### 9. Slope is (m = y2-y1/x2-x1). Find the slope and Euclidean distance between point (2, 2) and point (6,10)\n"
   ]
  },
  {
   "cell_type": "code",
   "execution_count": 12,
   "metadata": {},
   "outputs": [
    {
     "name": "stdout",
     "output_type": "stream",
     "text": [
      "Slope: 2.0\n",
      "Euclidean distance: 8.94\n"
     ]
    }
   ],
   "source": [
    "import math\n",
    "\n",
    "# Coordinates of the points\n",
    "x1, y1 = 2, 2\n",
    "x2, y2 = 6, 10\n",
    "\n",
    "# Calculate the slope\n",
    "slope_2 = (y2 - y1) / (x2 - x1)\n",
    "\n",
    "# Calculate the Euclidean distance\n",
    "distance = math.sqrt((x2 - x1)**2 + (y2 - y1)**2)\n",
    "\n",
    "print(f\"Slope: {slope_2}\")\n",
    "print(f\"Euclidean distance: {distance:.2f}\")"
   ]
  },
  {
   "cell_type": "markdown",
   "metadata": {},
   "source": [
    "### 10. Compare the slopes in tasks 8 and 9.\n"
   ]
  },
  {
   "cell_type": "code",
   "execution_count": 13,
   "metadata": {},
   "outputs": [
    {
     "name": "stdout",
     "output_type": "stream",
     "text": [
      "The slopes are equal.\n"
     ]
    }
   ],
   "source": [
    "if slope == slope_2:\n",
    "    print(\"The slopes are equal.\")\n",
    "else:\n",
    "    print(\"The slopes are not equal.\")"
   ]
  },
  {
   "cell_type": "markdown",
   "metadata": {},
   "source": [
    "### 11. Calculate the value of y (y = x^2 + 6x + 9). Try to use different x values and figure out at what x value y is going to be 0.\n"
   ]
  },
  {
   "cell_type": "code",
   "execution_count": 14,
   "metadata": {},
   "outputs": [
    {
     "name": "stdout",
     "output_type": "stream",
     "text": [
      "x values:  [-3, -2, -1, 0, 1, 2, 3]\n",
      "y values:  [0, 1, 4, 9, 16, 25, 36]\n",
      "The x value where y equals 0 is: -3\n"
     ]
    }
   ],
   "source": [
    "# Define x values\n",
    "x_values = [-3, -2, -1, 0, 1, 2, 3]\n",
    "\n",
    "# Calculate y values\n",
    "y_values = [x**2 + 6*x + 9 for x in x_values]\n",
    "\n",
    "print(\"x values: \", x_values)\n",
    "print(\"y values: \", y_values)\n",
    "\n",
    "# Find the x value where y equals 0\n",
    "x_zero = x_values[y_values.index(0)]\n",
    "print(f\"The x value where y equals 0 is: {x_zero}\")\n"
   ]
  },
  {
   "cell_type": "markdown",
   "metadata": {},
   "source": [
    "### 12. Find the length of 'python' and 'dragon' and make a falsy comparison statement.\n"
   ]
  },
  {
   "cell_type": "code",
   "execution_count": 3,
   "metadata": {},
   "outputs": [
    {
     "name": "stdout",
     "output_type": "stream",
     "text": [
      "6\n",
      "6\n",
      "True\n"
     ]
    }
   ],
   "source": [
    "# This will show the length of python and dragon\n",
    "print(len(\"Python\"))\n",
    "print(len(\"dragon\"))\n",
    "\n",
    "print(len(\"python\") == len(\"dragon\"))"
   ]
  },
  {
   "cell_type": "markdown",
   "metadata": {},
   "source": [
    "### 13. Use and operator to check if 'on' is found in both 'python' and 'dragon'"
   ]
  },
  {
   "cell_type": "code",
   "execution_count": 4,
   "metadata": {},
   "outputs": [
    {
     "name": "stdout",
     "output_type": "stream",
     "text": [
      "on is present in python and dragon dragon\n"
     ]
    }
   ],
   "source": [
    "print(\"on is present in python and dragon\", \"on\" in \"python\" and \"dragon\")"
   ]
  },
  {
   "cell_type": "markdown",
   "metadata": {},
   "source": [
    "### 14. I hope this course is not full of jargon. Use in operator to check if jargon is in the sentence."
   ]
  },
  {
   "cell_type": "code",
   "execution_count": 6,
   "metadata": {},
   "outputs": [
    {
     "name": "stdout",
     "output_type": "stream",
     "text": [
      "jargon is present True\n"
     ]
    }
   ],
   "source": [
    "print(\"jargon is present\", \"jargon\" in \"I hope this course is not full of jargon\")"
   ]
  },
  {
   "cell_type": "markdown",
   "metadata": {},
   "source": [
    "### 15. There is no 'on' in both dragon and python"
   ]
  },
  {
   "cell_type": "code",
   "execution_count": 7,
   "metadata": {},
   "outputs": [
    {
     "name": "stdout",
     "output_type": "stream",
     "text": [
      "False\n"
     ]
    }
   ],
   "source": [
    "print(\"on\" not in \"python\" and \"on\" not in \"dragon\")"
   ]
  },
  {
   "cell_type": "markdown",
   "metadata": {},
   "source": [
    "### 16. Find the length of the text python and convert the value to float and convert it to string"
   ]
  },
  {
   "cell_type": "code",
   "execution_count": 10,
   "metadata": {},
   "outputs": [
    {
     "name": "stdout",
     "output_type": "stream",
     "text": [
      "6\n",
      "6\n"
     ]
    },
    {
     "data": {
      "text/plain": [
       "str"
      ]
     },
     "execution_count": 10,
     "metadata": {},
     "output_type": "execute_result"
    }
   ],
   "source": [
    "length = len(\"python\")\n",
    "print(length)\n",
    "\n",
    "# Converting the length to a string\n",
    "length_str = str(length)\n",
    "print(length_str)\n",
    "\n",
    "type(length_str)"
   ]
  },
  {
   "cell_type": "markdown",
   "metadata": {},
   "source": [
    "### 17. Even numbers are divisible by 2 and the remainder is zero. How do you check if a number is even or not using python?"
   ]
  },
  {
   "cell_type": "code",
   "execution_count": 12,
   "metadata": {},
   "outputs": [
    {
     "name": "stdout",
     "output_type": "stream",
     "text": [
      "6 is even\n"
     ]
    }
   ],
   "source": [
    "number = length  # Using the variable 'length' which is already defined\n",
    "if number % 2 == 0:\n",
    "    print(f\"{number} is even\")\n",
    "else:\n",
    "    print(f\"{number} is odd\")"
   ]
  },
  {
   "cell_type": "markdown",
   "metadata": {},
   "source": [
    "### 18. Check if the floor division of 7 by 3 is equal to the int converted value of 2.7."
   ]
  },
  {
   "cell_type": "code",
   "execution_count": 14,
   "metadata": {},
   "outputs": [
    {
     "name": "stdout",
     "output_type": "stream",
     "text": [
      "The floor division of 7 by 3 is equal to the int converted value of 2.7.\n"
     ]
    }
   ],
   "source": [
    "# Perform floor division\n",
    "floor_div = 7 // 3\n",
    "\n",
    "# Convert 2.7 to an integer\n",
    "int_value = int(2.7)\n",
    "\n",
    "# Check if they are equal\n",
    "if floor_div == int_value:\n",
    "    print(\"The floor division of 7 by 3 is equal to the int converted value of 2.7.\")\n",
    "else:\n",
    "    print(\"The floor division of 7 by 3 is not equal to the int converted value of 2.7.\")"
   ]
  },
  {
   "cell_type": "markdown",
   "metadata": {},
   "source": [
    "### 19 Check if type of '10' is equal to type of 10"
   ]
  },
  {
   "cell_type": "code",
   "execution_count": 15,
   "metadata": {},
   "outputs": [
    {
     "name": "stdout",
     "output_type": "stream",
     "text": [
      "The type of '10' is not equal to the type of 10.\n"
     ]
    }
   ],
   "source": [
    "if type(\"10\") == type(10):\n",
    "    print(\"The type of '10' is equal to the type of 10.\")\n",
    "else:\n",
    "    print(\"The type of '10' is not equal to the type of 10.\")"
   ]
  },
  {
   "cell_type": "markdown",
   "metadata": {},
   "source": [
    "### 20. Check if int('9.8') is equal to 10"
   ]
  },
  {
   "cell_type": "code",
   "execution_count": 20,
   "metadata": {},
   "outputs": [
    {
     "name": "stdout",
     "output_type": "stream",
     "text": [
      "The integer value of '9.8' is not equal to 10.\n"
     ]
    }
   ],
   "source": [
    "a = \"9.8\"\n",
    "float_value = float(a)\n",
    "int_value = int(float_value)\n",
    "\n",
    "if int_value == 10:\n",
    "    print(\"The integer value of '9.8' is equal to 10.\")\n",
    "else:\n",
    "    print(\"The integer value of '9.8' is not equal to 10.\")"
   ]
  },
  {
   "cell_type": "markdown",
   "metadata": {},
   "source": [
    "### 21. Writ a script that prompts the user to enter hours and rate per hour. Calculate pay of the person?\n",
    "Enter hours: 40\n",
    "\n",
    "Enter rate per hour: 28\n",
    "\n",
    "Your weekly earning is 1120\n"
   ]
  },
  {
   "cell_type": "code",
   "execution_count": 21,
   "metadata": {},
   "outputs": [
    {
     "name": "stdout",
     "output_type": "stream",
     "text": [
      "Your weekly earning is 1120.0\n"
     ]
    }
   ],
   "source": [
    "hours = float(input(\"Enter Number of hours\"))\n",
    "rate = float(input(\"Enter hourly rate\"))\n",
    "weekly_pay = float(hours) * float(rate)\n",
    "\n",
    "print(f\"Your weekly earning is {weekly_pay}\")\n"
   ]
  },
  {
   "cell_type": "markdown",
   "metadata": {},
   "source": [
    "### 22. Write a script that prompts the user to enter number of years. Calculate the number of seconds a person can live. Assume a person can live hundred years\n",
    "Enter number of years you have lived: 100\n",
    "\n",
    "You have lived for 3153600000 seconds"
   ]
  },
  {
   "cell_type": "code",
   "execution_count": 23,
   "metadata": {},
   "outputs": [
    {
     "name": "stdout",
     "output_type": "stream",
     "text": [
      "You have lived for 3153600000.0 seconds\n"
     ]
    }
   ],
   "source": [
    "years = float(input(\"Enter number of years\"))\n",
    "seconds = 31536000 * years\n",
    "print(f\"You have lived for {seconds} seconds\")"
   ]
  },
  {
   "cell_type": "markdown",
   "metadata": {},
   "source": [
    "### 23. Write a Python script that displays the following table\n",
    "1 1 1 1 1\n",
    "\n",
    "2 1 2 4 8\n",
    "\n",
    "3 1 3 9 27\n",
    "\n",
    "4 1 4 16 64\n",
    "\n",
    "5 1 5 25 125"
   ]
  },
  {
   "cell_type": "code",
   "execution_count": 24,
   "metadata": {},
   "outputs": [
    {
     "name": "stdout",
     "output_type": "stream",
     "text": [
      "1 1 1 1 1\n",
      "2 1 2 4 8\n",
      "3 1 3 9 27\n",
      "4 1 4 16 64\n",
      "5 1 5 25 125\n"
     ]
    }
   ],
   "source": [
    "for i in range(1, 6):\n",
    "    print(i, 1, i, i**2, i**3)"
   ]
  },
  {
   "cell_type": "code",
   "execution_count": null,
   "metadata": {},
   "outputs": [],
   "source": []
  }
 ],
 "metadata": {
  "kernelspec": {
   "display_name": "AREWADSEXERCISE",
   "language": "python",
   "name": "python3"
  },
  "language_info": {
   "codemirror_mode": {
    "name": "ipython",
    "version": 3
   },
   "file_extension": ".py",
   "mimetype": "text/x-python",
   "name": "python",
   "nbconvert_exporter": "python",
   "pygments_lexer": "ipython3",
   "version": "3.13.0"
  }
 },
 "nbformat": 4,
 "nbformat_minor": 2
}
